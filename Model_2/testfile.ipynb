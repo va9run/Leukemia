{
 "cells": [
  {
   "cell_type": "code",
   "execution_count": 1,
   "metadata": {},
   "outputs": [],
   "source": [
    "import pandas as pd\n",
    "import numpy as np\n",
    "import matplotlib.pyplot as plt\n",
    "from pylab import *\n",
    "from PIL import Image\n",
    "import os\n",
    "import cv2\n",
    "from keras import preprocessing\n",
    "import tensorflow as tf\n",
    "from keras.models import Sequential\n",
    "from keras.layers import Conv2D, MaxPooling2D, Flatten, Dense, Dropout\n",
    "from skimage import exposure"
   ]
  },
  {
   "cell_type": "code",
   "execution_count": 2,
   "metadata": {},
   "outputs": [],
   "source": [
    "trainingDataHEM = 'C:/Users/v4run/OneDrive/Desktop/Datasets/C-NMC_Leukemia/training_data/fold_1/hem'\n",
    "trainingDataALL = 'C:/Users/v4run/OneDrive/Desktop/Datasets/C-NMC_Leukemia/training_data/fold_1/all'\n",
    "\n",
    "\n",
    "validationDataHEM = 'C:/Users/v4run/OneDrive/Desktop/Datasets/C-NMC_Leukemia/training_data/fold_0/hem'\n",
    "validationDataALL = 'C:/Users/v4run/OneDrive/Desktop/Datasets/C-NMC_Leukemia/training_data/fold_0/all'"
   ]
  },
  {
   "cell_type": "code",
   "execution_count": 3,
   "metadata": {},
   "outputs": [],
   "source": [
    "def get_imlist(path):\n",
    "    return [os.path.join(path,f) for f in os.listdir(path) if f.endswith('.bmp')]"
   ]
  },
  {
   "cell_type": "code",
   "execution_count": 4,
   "metadata": {},
   "outputs": [],
   "source": [
    "def dataImport(path,pathType):\n",
    "    imageList = []\n",
    "    for i,j in zip(pathType,path):\n",
    "        if i not in ['ALL','HEM']:\n",
    "            raise ValueError(\"Entry must be either 'ALL' or 'HEM'\")\n",
    "        else:\n",
    "            if i == 'HEM':\n",
    "                loadPath = get_imlist(j) \n",
    "                for paths in loadPath:\n",
    "                    imageList.append({'Images':Image.open(paths),'Labels':0})\n",
    "            else:\n",
    "                loadPath = get_imlist(j) \n",
    "                for paths in loadPath:\n",
    "                    imageList.append({'Images':Image.open(paths),'Labels':1})\n",
    "    imageData = pd.DataFrame(imageList)\n",
    "    return imageData"
   ]
  },
  {
   "cell_type": "code",
   "execution_count": 5,
   "metadata": {},
   "outputs": [],
   "source": [
    "def load_images_labels_from_df(path, pathType, img_size):\n",
    "\n",
    "    df = dataImport(path,pathType)\n",
    "    images = []\n",
    "    labels = []\n",
    "    \n",
    "    for _, row in df.iterrows():\n",
    "        label = row['Labels']\n",
    "        img_data = row['Images']\n",
    "        img_resized = img_data.resize((img_size, img_size)) #resize images (128*128, 256*256 etc)\n",
    "        img_array = exposure.equalize_adapthist(np.array(img_resized),clip_limit=0.03,nbins=256)  # Normalize pixel values\n",
    "        img_array = (img_array*255).astype(np.uint8)\n",
    "        images.append(img_array)\n",
    "        labels.append(label)\n",
    "    \n",
    "    images = np.array(images)\n",
    "    labels = np.array(labels)\n",
    "\n",
    "    # crop images\n",
    "    cropped_images = []\n",
    "\n",
    "    for i in images:\n",
    "        cropped_image = i[10:-10, 10:-10, :] \n",
    "        cropped_images.append(cropped_image)\n",
    "\n",
    "    cropped_images = np.array(cropped_images)\n",
    "    cropped_images = cropped_images.astype('uint8')\n",
    "    \n",
    "    return cropped_images, labels, len(cropped_images)"
   ]
  },
  {
   "cell_type": "code",
   "execution_count": 6,
   "metadata": {},
   "outputs": [],
   "source": [
    "def data_augmentation(path, pathType, img_size):\n",
    "\n",
    "    cropped_images, labels, total_images = load_images_labels_from_df(path,pathType,img_size)\n",
    "    augmentation = preprocessing.image.ImageDataGenerator(\n",
    "                                                        rotation_range=50, # image rotation range\n",
    "                                                        width_shift_range=0.2, # horizontal shift during augmentation\n",
    "                                                        height_shift_range=0.2, # vertical shift during augmentation\n",
    "                                                        shear_range=0, # shear angle shift during augmentation\n",
    "                                                        zoom_range=0.2, # image zoom-in or out during augmentation\n",
    "                                                        horizontal_flip=True, \n",
    "                                                        fill_mode='nearest' # how to fill empty spaces created during augmentation*\n",
    "                                                    )\n",
    "    \n",
    "    augmentation.fit(cropped_images)\n",
    "    augmentedImage_generator = augmentation.flow(cropped_images, labels, batch_size=32)\n",
    "    return augmentedImage_generator,total_images"
   ]
  },
  {
   "cell_type": "code",
   "execution_count": 7,
   "metadata": {},
   "outputs": [],
   "source": [
    "trainingData_generator, totalTrainImages = data_augmentation([trainingDataALL,trainingDataHEM],['ALL','HEM'],256)\n",
    "validationData_generator, labels, totalValidationImages = load_images_labels_from_df([validationDataALL,validationDataHEM],['ALL','HEM'],256)"
   ]
  },
  {
   "cell_type": "code",
   "execution_count": 8,
   "metadata": {},
   "outputs": [],
   "source": [
    "c,d = next(trainingData_generator)"
   ]
  },
  {
   "cell_type": "code",
   "execution_count": 13,
   "metadata": {},
   "outputs": [
    {
     "name": "stderr",
     "output_type": "stream",
     "text": [
      "Clipping input data to the valid range for imshow with RGB data ([0..1] for floats or [0..255] for integers).\n"
     ]
    },
    {
     "data": {
      "text/plain": [
       "<matplotlib.image.AxesImage at 0x27fb4336760>"
      ]
     },
     "execution_count": 13,
     "metadata": {},
     "output_type": "execute_result"
    },
    {
     "data": {
      "image/png": "[encoded data removed]",
      "text/plain": [
       "<Figure size 432x288 with 1 Axes>"
      ]
     },
     "metadata": {
      "needs_background": "light"
     },
     "output_type": "display_data"
    }
   ],
   "source": []
  },
  {
   "cell_type": "code",
   "execution_count": 12,
   "metadata": {},
   "outputs": [
    {
     "name": "stdout",
     "output_type": "stream",
     "text": [
      "Epoch 1/50\n",
      "111/111 [==============================] - ETA: 0s - loss: 2.6580 - accuracy: 0.6979WARNING:tensorflow:Your input ran out of data; interrupting training. Make sure that your dataset or generator can generate at least `steps_per_epoch * epochs` batches (in this case, 110 batches). You may need to use the repeat() function when building your dataset.\n",
      "111/111 [==============================] - 175s 2s/step - loss: 2.6580 - accuracy: 0.6979 - val_loss: 0.5911 - val_accuracy: 0.7284\n",
      "Epoch 2/50\n",
      "111/111 [==============================] - 141s 1s/step - loss: 0.5407 - accuracy: 0.7413\n",
      "Epoch 3/50\n",
      "111/111 [==============================] - 148s 1s/step - loss: 0.5225 - accuracy: 0.7650\n",
      "Epoch 4/50\n",
      "111/111 [==============================] - 161s 1s/step - loss: 0.4941 - accuracy: 0.7867\n",
      "Epoch 5/50\n",
      "111/111 [==============================] - 161s 1s/step - loss: 0.4829 - accuracy: 0.7915\n",
      "Epoch 6/50\n",
      "111/111 [==============================] - 159s 1s/step - loss: 0.4706 - accuracy: 0.7988\n",
      "Epoch 7/50\n",
      "111/111 [==============================] - 156s 1s/step - loss: 0.4829 - accuracy: 0.8042\n",
      "Epoch 8/50\n",
      "111/111 [==============================] - 155s 1s/step - loss: 0.4556 - accuracy: 0.8090\n",
      "Epoch 9/50\n",
      "111/111 [==============================] - 155s 1s/step - loss: 0.4433 - accuracy: 0.8076\n",
      "Epoch 10/50\n",
      "111/111 [==============================] - 155s 1s/step - loss: 0.4471 - accuracy: 0.8101\n",
      "Epoch 11/50\n",
      "111/111 [==============================] - 157s 1s/step - loss: 0.4470 - accuracy: 0.8118\n",
      "Epoch 12/50\n",
      "111/111 [==============================] - 159s 1s/step - loss: 0.4289 - accuracy: 0.8177\n",
      "Epoch 13/50\n",
      "111/111 [==============================] - 159s 1s/step - loss: 0.4263 - accuracy: 0.8146\n",
      "Epoch 14/50\n",
      "111/111 [==============================] - 158s 1s/step - loss: 0.4176 - accuracy: 0.8225\n",
      "Epoch 15/50\n",
      "111/111 [==============================] - 157s 1s/step - loss: 0.3994 - accuracy: 0.8352\n",
      "Epoch 16/50\n",
      "111/111 [==============================] - 155s 1s/step - loss: 0.4340 - accuracy: 0.8242\n",
      "Epoch 17/50\n",
      "111/111 [==============================] - 160s 1s/step - loss: 0.4154 - accuracy: 0.8295\n",
      "Epoch 18/50\n",
      "111/111 [==============================] - 160s 1s/step - loss: 0.4076 - accuracy: 0.8338\n",
      "Epoch 19/50\n",
      "111/111 [==============================] - 152s 1s/step - loss: 0.3966 - accuracy: 0.8453\n",
      "Epoch 20/50\n",
      "111/111 [==============================] - 153s 1s/step - loss: 0.3918 - accuracy: 0.8371\n",
      "Epoch 21/50\n",
      "111/111 [==============================] - 155s 1s/step - loss: 0.3857 - accuracy: 0.8405\n",
      "Epoch 22/50\n",
      "111/111 [==============================] - 155s 1s/step - loss: 0.3883 - accuracy: 0.8408\n",
      "Epoch 23/50\n",
      "111/111 [==============================] - 155s 1s/step - loss: 0.3936 - accuracy: 0.8385\n",
      "Epoch 24/50\n",
      "111/111 [==============================] - 155s 1s/step - loss: 0.4013 - accuracy: 0.8301\n",
      "Epoch 25/50\n",
      "111/111 [==============================] - 155s 1s/step - loss: 0.3947 - accuracy: 0.8343\n",
      "Epoch 26/50\n",
      "111/111 [==============================] - 155s 1s/step - loss: 0.3863 - accuracy: 0.8416\n",
      "Epoch 27/50\n",
      "111/111 [==============================] - 157s 1s/step - loss: 0.3742 - accuracy: 0.8447\n",
      "Epoch 28/50\n",
      "111/111 [==============================] - 156s 1s/step - loss: 0.3850 - accuracy: 0.8450\n",
      "Epoch 29/50\n",
      "111/111 [==============================] - 155s 1s/step - loss: 0.3838 - accuracy: 0.8470\n",
      "Epoch 30/50\n",
      "111/111 [==============================] - 152s 1s/step - loss: 0.3872 - accuracy: 0.8416\n",
      "Epoch 31/50\n",
      "111/111 [==============================] - 152s 1s/step - loss: 0.3851 - accuracy: 0.8442\n",
      "Epoch 32/50\n",
      "111/111 [==============================] - 152s 1s/step - loss: 0.3770 - accuracy: 0.8459\n",
      "Epoch 33/50\n",
      "111/111 [==============================] - 153s 1s/step - loss: 0.3648 - accuracy: 0.8518\n",
      "Epoch 34/50\n",
      "111/111 [==============================] - 156s 1s/step - loss: 0.3764 - accuracy: 0.8473\n",
      "Epoch 35/50\n",
      "111/111 [==============================] - 156s 1s/step - loss: 0.3693 - accuracy: 0.8431\n",
      "Epoch 36/50\n",
      "111/111 [==============================] - 155s 1s/step - loss: 0.3728 - accuracy: 0.8450\n",
      "Epoch 37/50\n",
      "111/111 [==============================] - 155s 1s/step - loss: 0.3676 - accuracy: 0.8493\n",
      "Epoch 38/50\n",
      "111/111 [==============================] - 154s 1s/step - loss: 0.3686 - accuracy: 0.8490\n",
      "Epoch 39/50\n",
      "111/111 [==============================] - 151s 1s/step - loss: 0.3640 - accuracy: 0.8478\n",
      "Epoch 40/50\n",
      "111/111 [==============================] - 153s 1s/step - loss: 0.3820 - accuracy: 0.8431\n",
      "Epoch 41/50\n",
      "111/111 [==============================] - 153s 1s/step - loss: 0.3666 - accuracy: 0.8540\n",
      "Epoch 42/50\n",
      "111/111 [==============================] - 153s 1s/step - loss: 0.3654 - accuracy: 0.8540\n",
      "Epoch 43/50\n",
      "111/111 [==============================] - 153s 1s/step - loss: 0.3690 - accuracy: 0.8473\n",
      "Epoch 44/50\n",
      "111/111 [==============================] - 153s 1s/step - loss: 0.3742 - accuracy: 0.8504\n",
      "Epoch 45/50\n",
      "111/111 [==============================] - 156s 1s/step - loss: 0.3656 - accuracy: 0.8549\n",
      "Epoch 46/50\n",
      "111/111 [==============================] - 157s 1s/step - loss: 0.3682 - accuracy: 0.8490\n",
      "Epoch 47/50\n",
      "111/111 [==============================] - 156s 1s/step - loss: 0.3616 - accuracy: 0.8555\n",
      "Epoch 48/50\n",
      "111/111 [==============================] - 156s 1s/step - loss: 0.3551 - accuracy: 0.8577\n",
      "Epoch 49/50\n",
      "111/111 [==============================] - 157s 1s/step - loss: 0.3653 - accuracy: 0.8490\n",
      "Epoch 50/50\n",
      "111/111 [==============================] - 157s 1s/step - loss: 0.3596 - accuracy: 0.8524\n",
      "107/110 [============================>.] - ETA: 0s - loss: 0.4848 - accuracy: 0.8305WARNING:tensorflow:Your input ran out of data; interrupting training. Make sure that your dataset or generator can generate at least `steps_per_epoch * epochs` batches (in this case, 110 batches). You may need to use the repeat() function when building your dataset.\n",
      "110/110 [==============================] - 33s 295ms/step - loss: 0.4848 - accuracy: 0.8305\n",
      "Validation loss:  0.4848 Validation accuracy:  0.8305\n"
     ]
    }
   ],
   "source": [
    "model = Sequential()\n",
    "model.add(Conv2D(32,(3,3), activation='relu',input_shape=(236, 236,3)))\n",
    "model.add(MaxPooling2D(pool_size=(2, 2)))\n",
    "\n",
    "model.add(Conv2D(64,(3,3), activation='relu'))\n",
    "model.add(MaxPooling2D(pool_size=(2, 2)))\n",
    "\n",
    "model.add(Conv2D(128,(3,3), activation='relu'))\n",
    "model.add(MaxPooling2D(pool_size=(2, 2)))\n",
    "\n",
    "model.add(Flatten())\n",
    "model.add(Dense(256, activation='relu'))\n",
    "model.add(Dropout(0.5))\n",
    "model.add(Dense(1, activation='sigmoid'))\n",
    "\n",
    "model.compile(loss='binary_crossentropy', optimizer='adam', metrics=['accuracy'])\n",
    "\n",
    "history = model.fit(\n",
    "    trainingData_generator,\n",
    "    steps_per_epoch=totalTrainImages//32,\n",
    "    epochs=50,\n",
    "    validation_data=(validationData_generator,labels),\n",
    "    validation_steps=totalValidationImages//32\n",
    ")\n",
    "\n",
    "loss, accuracy = model.evaluate(validationData_generator,labels,steps=totalValidationImages//32)\n",
    "print(f\"Validation loss: {loss: .4f}\", f\"Validation accuracy: {accuracy: .4f}\")"
   ]
  },
  {
   "cell_type": "code",
   "execution_count": null,
   "metadata": {},
   "outputs": [],
   "source": [
    " "
   ]
  }
 ],
 "metadata": {
  "kernelspec": {
   "display_name": "Python 3",
   "language": "python",
   "name": "python3"
  },
  "language_info": {
   "codemirror_mode": {
    "name": "ipython",
    "version": 3
   },
   "file_extension": ".py",
   "mimetype": "text/x-python",
   "name": "python",
   "nbconvert_exporter": "python",
   "pygments_lexer": "ipython3",
   "version": "3.9.7"
  },
  "orig_nbformat": 4
 },
 "nbformat": 4,
 "nbformat_minor": 2
}
