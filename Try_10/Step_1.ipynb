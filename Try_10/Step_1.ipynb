{
 "cells": [
  {
   "cell_type": "code",
   "execution_count": null,
   "metadata": {},
   "outputs": [],
   "source": [
    "# Steps:\n",
    "####    1. Import Files\n",
    "####    2. Crop\n",
    "####    3. Augmentation"
   ]
  },
  {
   "cell_type": "code",
   "execution_count": null,
   "metadata": {},
   "outputs": [],
   "source": [
    "from imageImport import image_import\n",
    "from imageCropping import crop_img\n",
    "import matplotlib.pyplot as plt\n",
    "from pylab import *\n",
    "import keras\n",
    "from keras import preprocessing\n",
    "import cv2\n",
    "import os\n",
    "import numpy as np"
   ]
  },
  {
   "cell_type": "code",
   "execution_count": null,
   "metadata": {},
   "outputs": [],
   "source": [
    "# Training Data Hem Path\n",
    "hemPath1 = \"C:/Users/v4run/OneDrive/Desktop/Datasets/C-NMC_Leukemia/training_data/fold_2/0\"\n",
    "# hemPath2 = 'C:/Users/v4run/OneDrive/Desktop/Datasets/C-NMC_Leukemia/training_data/fold_0/hem'"
   ]
  },
  {
   "cell_type": "code",
   "execution_count": null,
   "metadata": {},
   "outputs": [],
   "source": [
    "# Training Data ALL Path\n",
    "allPath1 = 'C:/Users/v4run/OneDrive/Desktop/Datasets/C-NMC_Leukemia/training_data/fold_2/1'\n",
    "# allPath2 = 'C:/Users/v4run/OneDrive/Desktop/Datasets/C-NMC_Leukemia/training_data/fold_0/all'"
   ]
  },
  {
   "cell_type": "code",
   "execution_count": null,
   "metadata": {},
   "outputs": [],
   "source": [
    "# Image import\n",
    "hem = [hemPath1]\n",
    "hemImages = []\n",
    "hemLabel = []\n",
    "\n",
    "for index, images in enumerate(hem):\n",
    "    im, labels = image_import([images],['HEM'])\n",
    "    hemImages.extend(im)\n",
    "    hemLabel.extend(labels)"
   ]
  },
  {
   "cell_type": "code",
   "execution_count": null,
   "metadata": {},
   "outputs": [],
   "source": [
    "hemImages[0]"
   ]
  },
  {
   "cell_type": "code",
   "execution_count": null,
   "metadata": {},
   "outputs": [],
   "source": [
    "# Image import\n",
    "all = [allPath1, allPath2]\n",
    "allImages = []\n",
    "allLabel = []\n",
    "\n",
    "for index, images in enumerate(all):\n",
    "    im, labels = image_import([images],['HEM'])\n",
    "    allImages.extend(im)\n",
    "    allLabel.extend(labels)"
   ]
  },
  {
   "cell_type": "code",
   "execution_count": null,
   "metadata": {},
   "outputs": [],
   "source": [
    "# Crop and resize image\n",
    "hemImageCropped = []\n",
    "for index, img in enumerate(hemImages):\n",
    "    image = np.array(img)\n",
    "    croppedImage = crop_img(image)\n",
    "    image_resize = cv2.resize(croppedImage,(256,256), interpolation=cv2.INTER_LANCZOS4)\n",
    "    hemImageCropped.append(image_resize)"
   ]
  },
  {
   "cell_type": "code",
   "execution_count": null,
   "metadata": {},
   "outputs": [],
   "source": [
    "imshow(hemImageCropped[0])"
   ]
  },
  {
   "cell_type": "code",
   "execution_count": null,
   "metadata": {},
   "outputs": [],
   "source": [
    "# Crop and resize image\n",
    "allImageCropped = []\n",
    "for index, img in enumerate(allImages):\n",
    "    image = np.array(img)\n",
    "    croppedImage = crop_img(image)\n",
    "    image_resize = cv2.resize(croppedImage,(256,256), interpolation=cv2.INTER_LANCZOS4)\n",
    "    allImageCropped.append(image_resize)"
   ]
  },
  {
   "cell_type": "code",
   "execution_count": null,
   "metadata": {},
   "outputs": [],
   "source": [
    "imshow(hemImageCropped[0])"
   ]
  },
  {
   "cell_type": "code",
   "execution_count": null,
   "metadata": {},
   "outputs": [],
   "source": [
    "os.mkdir()"
   ]
  },
  {
   "cell_type": "code",
   "execution_count": null,
   "metadata": {},
   "outputs": [],
   "source": [
    "# Data Imbalance\n",
    "y = [len(hemImageCropped),len(allImageCropped)]\n",
    "x = ['Hem','All']\n",
    "plt.bar(x,y)\n",
    "\n",
    "for i, count in enumerate([len(hemImageCropped),len(allImageCropped)]):\n",
    "    plt.text(x=i, y=count, s=str(count), ha='center', va='bottom')\n",
    "\n",
    "plt.show()"
   ]
  },
  {
   "cell_type": "code",
   "execution_count": null,
   "metadata": {},
   "outputs": [],
   "source": [
    "imgGen = preprocessing.image.ImageDataGenerator(\n",
    "                                                            rotation_range=60, # image rotation range\n",
    "                                                            width_shift_range=0, # horizontal shift during augmentation\n",
    "                                                            height_shift_range=0, # vertical shift during augmentation\n",
    "                                                            shear_range=0.1, # shear angle shift during augmentation\n",
    "                                                            zoom_range=0.3, # image zoom-in or out during augmentation\n",
    "                                                            horizontal_flip=True,\n",
    "                                                            fill_mode='constant',\n",
    "                                                            cval=0,\n",
    "                                                            vertical_flip=True\n",
    "                                                    )"
   ]
  },
  {
   "cell_type": "code",
   "execution_count": null,
   "metadata": {},
   "outputs": [],
   "source": [
    "hemImageArray = np.array(hemImageCropped)"
   ]
  },
  {
   "cell_type": "code",
   "execution_count": null,
   "metadata": {},
   "outputs": [],
   "source": [
    "hemBalancing =  imgGen.flow(hemImageArray,batch_size=32)"
   ]
  },
  {
   "cell_type": "code",
   "execution_count": null,
   "metadata": {},
   "outputs": [],
   "source": [
    "hemRemainingImages = []\n",
    "\n",
    "imgCount = 0\n",
    "while imgCount <= 1355:\n",
    "    images = next(hemBalancing)\n",
    "    imgCount +=len(images)\n",
    "    hemRemainingImages.extend(images)"
   ]
  },
  {
   "cell_type": "code",
   "execution_count": null,
   "metadata": {},
   "outputs": [],
   "source": [
    "len(hemRemainingImages)"
   ]
  },
  {
   "cell_type": "code",
   "execution_count": null,
   "metadata": {},
   "outputs": [],
   "source": [
    "imshow(hemRemainingImages[1359])"
   ]
  },
  {
   "cell_type": "code",
   "execution_count": null,
   "metadata": {},
   "outputs": [],
   "source": [
    "# Image conversion back to normal (float32 to uint8)\n",
    "hemImageCorrection = []\n",
    "\n",
    "for idx, img in enumerate(hemRemainingImages):\n",
    "    image = img.astype(np.uint8)\n",
    "    \n",
    "    hemImageCorrection.append(image)"
   ]
  },
  {
   "cell_type": "code",
   "execution_count": null,
   "metadata": {},
   "outputs": [],
   "source": [
    "hemImageBalancing = np.concatenate((hemImageArray,hemImageCorrection),axis=0)"
   ]
  },
  {
   "cell_type": "code",
   "execution_count": null,
   "metadata": {},
   "outputs": [],
   "source": [
    "imshow(hemImageBalancing[2400])"
   ]
  },
  {
   "cell_type": "code",
   "execution_count": null,
   "metadata": {},
   "outputs": [],
   "source": [
    "hemImageBalancing.shape"
   ]
  },
  {
   "cell_type": "code",
   "execution_count": null,
   "metadata": {},
   "outputs": [],
   "source": [
    "len(allImageCropped)"
   ]
  },
  {
   "cell_type": "code",
   "execution_count": null,
   "metadata": {},
   "outputs": [],
   "source": [
    "hemImageArray[0].astype('uint8')"
   ]
  },
  {
   "cell_type": "code",
   "execution_count": null,
   "metadata": {},
   "outputs": [],
   "source": [
    "hemImageBalancing[0]"
   ]
  },
  {
   "cell_type": "code",
   "execution_count": null,
   "metadata": {},
   "outputs": [],
   "source": [
    "for index, img in enumerate(hemImageBalancing):\n",
    "    index = index+4810\n",
    "    cv2.imwrite(f'C:/Users/v4run/OneDrive/Desktop/Datasets/C-NMC_Leukemia/new/hem_{index}.bmp',img)"
   ]
  },
  {
   "cell_type": "code",
   "execution_count": null,
   "metadata": {},
   "outputs": [],
   "source": []
  }
 ],
 "metadata": {
  "kernelspec": {
   "display_name": "Python 3",
   "language": "python",
   "name": "python3"
  },
  "language_info": {
   "codemirror_mode": {
    "name": "ipython",
    "version": 3
   },
   "file_extension": ".py",
   "mimetype": "text/x-python",
   "name": "python",
   "nbconvert_exporter": "python",
   "pygments_lexer": "ipython3",
   "version": "3.9.7"
  },
  "orig_nbformat": 4
 },
 "nbformat": 4,
 "nbformat_minor": 2
}
