{
 "cells": [
  {
   "cell_type": "code",
   "execution_count": 1,
   "metadata": {},
   "outputs": [],
   "source": [
    "# Step-2:\n",
    "#### 1. Image Contrast\n",
    "#### 2. Data Split (Train(89), Validation(20))\n",
    "#### 3. Transfer learning"
   ]
  },
  {
   "cell_type": "code",
   "execution_count": 72,
   "metadata": {},
   "outputs": [],
   "source": [
    "import numpy as np\n",
    "import tensorflow as tf\n",
    "import keras\n",
    "from imageContrast import img_cont\n",
    "from skimage import exposure"
   ]
  },
  {
   "cell_type": "code",
   "execution_count": 28,
   "metadata": {},
   "outputs": [],
   "source": [
    "trainingDataPath = 'C:/Users/v4run/OneDrive/Desktop/Datasets/C-NMC_Leukemia/TrainingDataset'"
   ]
  },
  {
   "cell_type": "code",
   "execution_count": 73,
   "metadata": {},
   "outputs": [],
   "source": [
    "imageContrast = keras.preprocessing.image.ImageDataGenerator(preprocessing_function=img_cont)"
   ]
  },
  {
   "cell_type": "code",
   "execution_count": 74,
   "metadata": {},
   "outputs": [
    {
     "name": "stdout",
     "output_type": "stream",
     "text": [
      "Found 9625 images belonging to 2 classes.\n"
     ]
    }
   ],
   "source": [
    "trainData = imageContrast.flow_from_directory(\n",
    "                                    trainingDataPath,\n",
    "                                    seed=21,\n",
    "                                    target_size=(128, 128),\n",
    "                                    batch_size=32\n",
    ")"
   ]
  },
  {
   "cell_type": "code",
   "execution_count": 75,
   "metadata": {},
   "outputs": [
    {
     "ename": "ValueError",
     "evalue": "Images of type float must be between -1 and 1.",
     "output_type": "error",
     "traceback": [
      "\u001b[1;31m---------------------------------------------------------------------------\u001b[0m",
      "\u001b[1;31mValueError\u001b[0m                                Traceback (most recent call last)",
      "\u001b[1;32mc:\\Users\\v4run\\Leukemia\\Leukemia\\Leukemia-1\\Try_5\\Step_2.ipynb Cell 6\u001b[0m in \u001b[0;36m<cell line: 1>\u001b[1;34m()\u001b[0m\n\u001b[1;32m----> <a href='vscode-notebook-cell:/c%3A/Users/v4run/Leukemia/Leukemia/Leukemia-1/Try_5/Step_2.ipynb#W6sZmlsZQ%3D%3D?line=0'>1</a>\u001b[0m \u001b[39mnext\u001b[39;49m(trainData)\n",
      "File \u001b[1;32mc:\\Python39\\lib\\site-packages\\keras\\preprocessing\\image.py:156\u001b[0m, in \u001b[0;36mIterator.__next__\u001b[1;34m(self, *args, **kwargs)\u001b[0m\n\u001b[0;32m    155\u001b[0m \u001b[39mdef\u001b[39;00m \u001b[39m__next__\u001b[39m(\u001b[39mself\u001b[39m, \u001b[39m*\u001b[39margs, \u001b[39m*\u001b[39m\u001b[39m*\u001b[39mkwargs):\n\u001b[1;32m--> 156\u001b[0m     \u001b[39mreturn\u001b[39;00m \u001b[39mself\u001b[39m\u001b[39m.\u001b[39mnext(\u001b[39m*\u001b[39margs, \u001b[39m*\u001b[39m\u001b[39m*\u001b[39mkwargs)\n",
      "File \u001b[1;32mc:\\Python39\\lib\\site-packages\\keras\\preprocessing\\image.py:168\u001b[0m, in \u001b[0;36mIterator.next\u001b[1;34m(self)\u001b[0m\n\u001b[0;32m    165\u001b[0m     index_array \u001b[39m=\u001b[39m \u001b[39mnext\u001b[39m(\u001b[39mself\u001b[39m\u001b[39m.\u001b[39mindex_generator)\n\u001b[0;32m    166\u001b[0m \u001b[39m# The transformation of images is not under thread lock\u001b[39;00m\n\u001b[0;32m    167\u001b[0m \u001b[39m# so it can be done in parallel\u001b[39;00m\n\u001b[1;32m--> 168\u001b[0m \u001b[39mreturn\u001b[39;00m \u001b[39mself\u001b[39;49m\u001b[39m.\u001b[39;49m_get_batches_of_transformed_samples(index_array)\n",
      "File \u001b[1;32mc:\\Python39\\lib\\site-packages\\keras\\preprocessing\\image.py:385\u001b[0m, in \u001b[0;36mBatchFromFilesMixin._get_batches_of_transformed_samples\u001b[1;34m(self, index_array)\u001b[0m\n\u001b[0;32m    383\u001b[0m         params \u001b[39m=\u001b[39m \u001b[39mself\u001b[39m\u001b[39m.\u001b[39mimage_data_generator\u001b[39m.\u001b[39mget_random_transform(x\u001b[39m.\u001b[39mshape)\n\u001b[0;32m    384\u001b[0m         x \u001b[39m=\u001b[39m \u001b[39mself\u001b[39m\u001b[39m.\u001b[39mimage_data_generator\u001b[39m.\u001b[39mapply_transform(x, params)\n\u001b[1;32m--> 385\u001b[0m         x \u001b[39m=\u001b[39m \u001b[39mself\u001b[39;49m\u001b[39m.\u001b[39;49mimage_data_generator\u001b[39m.\u001b[39;49mstandardize(x)\n\u001b[0;32m    386\u001b[0m     batch_x[i] \u001b[39m=\u001b[39m x\n\u001b[0;32m    387\u001b[0m \u001b[39m# optionally save augmented images to disk for debugging purposes\u001b[39;00m\n",
      "File \u001b[1;32mc:\\Python39\\lib\\site-packages\\keras\\preprocessing\\image.py:1849\u001b[0m, in \u001b[0;36mImageDataGenerator.standardize\u001b[1;34m(self, x)\u001b[0m\n\u001b[0;32m   1831\u001b[0m \u001b[39m\"\"\"Applies the normalization configuration in-place to a batch of\u001b[39;00m\n\u001b[0;32m   1832\u001b[0m \u001b[39minputs.\u001b[39;00m\n\u001b[0;32m   1833\u001b[0m \n\u001b[1;32m   (...)\u001b[0m\n\u001b[0;32m   1846\u001b[0m \u001b[39m    The inputs, normalized.\u001b[39;00m\n\u001b[0;32m   1847\u001b[0m \u001b[39m\"\"\"\u001b[39;00m\n\u001b[0;32m   1848\u001b[0m \u001b[39mif\u001b[39;00m \u001b[39mself\u001b[39m\u001b[39m.\u001b[39mpreprocessing_function:\n\u001b[1;32m-> 1849\u001b[0m     x \u001b[39m=\u001b[39m \u001b[39mself\u001b[39;49m\u001b[39m.\u001b[39;49mpreprocessing_function(x)\n\u001b[0;32m   1850\u001b[0m \u001b[39mif\u001b[39;00m \u001b[39mself\u001b[39m\u001b[39m.\u001b[39mrescale:\n\u001b[0;32m   1851\u001b[0m     x \u001b[39m*\u001b[39m\u001b[39m=\u001b[39m \u001b[39mself\u001b[39m\u001b[39m.\u001b[39mrescale\n",
      "File \u001b[1;32mc:\\Users\\v4run\\Leukemia\\Leukemia\\Leukemia-1\\Try_5\\imageContrast.py:4\u001b[0m, in \u001b[0;36mimg_cont\u001b[1;34m(img)\u001b[0m\n\u001b[0;32m      3\u001b[0m \u001b[39mdef\u001b[39;00m \u001b[39mimg_cont\u001b[39m(img):\n\u001b[1;32m----> 4\u001b[0m     contrast \u001b[39m=\u001b[39m exposure\u001b[39m.\u001b[39;49mequalize_adapthist(img,clip_limit\u001b[39m=\u001b[39;49m\u001b[39m0.15\u001b[39;49m,nbins\u001b[39m=\u001b[39;49m\u001b[39m256\u001b[39;49m)\n\u001b[0;32m      5\u001b[0m     \u001b[39mreturn\u001b[39;00m contrast\n",
      "File \u001b[1;32m~\\AppData\\Roaming\\Python\\Python39\\site-packages\\skimage\\color\\adapt_rgb.py:38\u001b[0m, in \u001b[0;36madapt_rgb.<locals>.decorator.<locals>.image_filter_adapted\u001b[1;34m(image, *args, **kwargs)\u001b[0m\n\u001b[0;32m     35\u001b[0m \u001b[39m@functools\u001b[39m\u001b[39m.\u001b[39mwraps(image_filter)\n\u001b[0;32m     36\u001b[0m \u001b[39mdef\u001b[39;00m \u001b[39mimage_filter_adapted\u001b[39m(image, \u001b[39m*\u001b[39margs, \u001b[39m*\u001b[39m\u001b[39m*\u001b[39mkwargs):\n\u001b[0;32m     37\u001b[0m     \u001b[39mif\u001b[39;00m is_rgb_like(image):\n\u001b[1;32m---> 38\u001b[0m         \u001b[39mreturn\u001b[39;00m apply_to_rgb(image_filter, image, \u001b[39m*\u001b[39margs, \u001b[39m*\u001b[39m\u001b[39m*\u001b[39mkwargs)\n\u001b[0;32m     39\u001b[0m     \u001b[39melse\u001b[39;00m:\n\u001b[0;32m     40\u001b[0m         \u001b[39mreturn\u001b[39;00m image_filter(image, \u001b[39m*\u001b[39margs, \u001b[39m*\u001b[39m\u001b[39m*\u001b[39mkwargs)\n",
      "File \u001b[1;32m~\\AppData\\Roaming\\Python\\Python39\\site-packages\\skimage\\color\\adapt_rgb.py:60\u001b[0m, in \u001b[0;36mhsv_value\u001b[1;34m(image_filter, image, *args, **kwargs)\u001b[0m\n\u001b[0;32m     58\u001b[0m hsv \u001b[39m=\u001b[39m color\u001b[39m.\u001b[39mrgb2hsv(image[:, :, :\u001b[39m3\u001b[39m])\n\u001b[0;32m     59\u001b[0m value \u001b[39m=\u001b[39m hsv[:, :, \u001b[39m2\u001b[39m]\u001b[39m.\u001b[39mcopy()\n\u001b[1;32m---> 60\u001b[0m value \u001b[39m=\u001b[39m image_filter(value, \u001b[39m*\u001b[39margs, \u001b[39m*\u001b[39m\u001b[39m*\u001b[39mkwargs)\n\u001b[0;32m     61\u001b[0m hsv[:, :, \u001b[39m2\u001b[39m] \u001b[39m=\u001b[39m _convert(value, hsv\u001b[39m.\u001b[39mdtype)\n\u001b[0;32m     62\u001b[0m \u001b[39mreturn\u001b[39;00m color\u001b[39m.\u001b[39mhsv2rgb(hsv)\n",
      "File \u001b[1;32m~\\AppData\\Roaming\\Python\\Python39\\site-packages\\skimage\\exposure\\_adapthist.py:73\u001b[0m, in \u001b[0;36mequalize_adapthist\u001b[1;34m(image, kernel_size, clip_limit, nbins)\u001b[0m\n\u001b[0;32m     23\u001b[0m \u001b[39m\"\"\"Contrast Limited Adaptive Histogram Equalization (CLAHE).\u001b[39;00m\n\u001b[0;32m     24\u001b[0m \n\u001b[0;32m     25\u001b[0m \u001b[39mAn algorithm for local contrast enhancement, that uses histograms computed\u001b[39;00m\n\u001b[1;32m   (...)\u001b[0m\n\u001b[0;32m     69\u001b[0m \u001b[39m.. [2] https://en.wikipedia.org/wiki/CLAHE#CLAHE\u001b[39;00m\n\u001b[0;32m     70\u001b[0m \u001b[39m\"\"\"\u001b[39;00m\n\u001b[0;32m     72\u001b[0m float_dtype \u001b[39m=\u001b[39m _supported_float_type(image\u001b[39m.\u001b[39mdtype)\n\u001b[1;32m---> 73\u001b[0m image \u001b[39m=\u001b[39m img_as_uint(image)\n\u001b[0;32m     74\u001b[0m image \u001b[39m=\u001b[39m np\u001b[39m.\u001b[39mround(\n\u001b[0;32m     75\u001b[0m     rescale_intensity(image, out_range\u001b[39m=\u001b[39m(\u001b[39m0\u001b[39m, NR_OF_GRAY \u001b[39m-\u001b[39m \u001b[39m1\u001b[39m))\n\u001b[0;32m     76\u001b[0m )\u001b[39m.\u001b[39mastype(np\u001b[39m.\u001b[39mmin_scalar_type(NR_OF_GRAY))\n\u001b[0;32m     78\u001b[0m \u001b[39mif\u001b[39;00m kernel_size \u001b[39mis\u001b[39;00m \u001b[39mNone\u001b[39;00m:\n",
      "File \u001b[1;32m~\\AppData\\Roaming\\Python\\Python39\\site-packages\\skimage\\util\\dtype.py:501\u001b[0m, in \u001b[0;36mimg_as_uint\u001b[1;34m(image, force_copy)\u001b[0m\n\u001b[0;32m    480\u001b[0m \u001b[39mdef\u001b[39;00m \u001b[39mimg_as_uint\u001b[39m(image, force_copy\u001b[39m=\u001b[39m\u001b[39mFalse\u001b[39;00m):\n\u001b[0;32m    481\u001b[0m     \u001b[39m\"\"\"Convert an image to 16-bit unsigned integer format.\u001b[39;00m\n\u001b[0;32m    482\u001b[0m \n\u001b[0;32m    483\u001b[0m \u001b[39m    Parameters\u001b[39;00m\n\u001b[1;32m   (...)\u001b[0m\n\u001b[0;32m    499\u001b[0m \n\u001b[0;32m    500\u001b[0m \u001b[39m    \"\"\"\u001b[39;00m\n\u001b[1;32m--> 501\u001b[0m     \u001b[39mreturn\u001b[39;00m _convert(image, np\u001b[39m.\u001b[39;49muint16, force_copy)\n",
      "File \u001b[1;32m~\\AppData\\Roaming\\Python\\Python39\\site-packages\\skimage\\util\\dtype.py:292\u001b[0m, in \u001b[0;36m_convert\u001b[1;34m(image, dtype, force_copy, uniform)\u001b[0m\n\u001b[0;32m    289\u001b[0m     \u001b[39mreturn\u001b[39;00m image\u001b[39m.\u001b[39mastype(dtype_out)\n\u001b[0;32m    291\u001b[0m \u001b[39mif\u001b[39;00m np\u001b[39m.\u001b[39mmin(image) \u001b[39m<\u001b[39m \u001b[39m-\u001b[39m\u001b[39m1.0\u001b[39m \u001b[39mor\u001b[39;00m np\u001b[39m.\u001b[39mmax(image) \u001b[39m>\u001b[39m \u001b[39m1.0\u001b[39m:\n\u001b[1;32m--> 292\u001b[0m     \u001b[39mraise\u001b[39;00m \u001b[39mValueError\u001b[39;00m(\u001b[39m\"\u001b[39m\u001b[39mImages of type float must be between -1 and 1.\u001b[39m\u001b[39m\"\u001b[39m)\n\u001b[0;32m    293\u001b[0m \u001b[39m# floating point -> integer\u001b[39;00m\n\u001b[0;32m    294\u001b[0m \u001b[39m# use float type that can represent output integer type\u001b[39;00m\n\u001b[0;32m    295\u001b[0m computation_type \u001b[39m=\u001b[39m _dtype_itemsize(itemsize_out, dtype_in,\n\u001b[0;32m    296\u001b[0m                                    np\u001b[39m.\u001b[39mfloat32, np\u001b[39m.\u001b[39mfloat64)\n",
      "\u001b[1;31mValueError\u001b[0m: Images of type float must be between -1 and 1."
     ]
    }
   ],
   "source": [
    "next(trainData)"
   ]
  },
  {
   "cell_type": "code",
   "execution_count": null,
   "metadata": {},
   "outputs": [],
   "source": []
  }
 ],
 "metadata": {
  "kernelspec": {
   "display_name": "Python 3",
   "language": "python",
   "name": "python3"
  },
  "language_info": {
   "codemirror_mode": {
    "name": "ipython",
    "version": 3
   },
   "file_extension": ".py",
   "mimetype": "text/x-python",
   "name": "python",
   "nbconvert_exporter": "python",
   "pygments_lexer": "ipython3",
   "version": "3.9.7"
  },
  "orig_nbformat": 4
 },
 "nbformat": 4,
 "nbformat_minor": 2
}
