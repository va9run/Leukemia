{
 "cells": [
  {
   "cell_type": "code",
   "execution_count": 46,
   "metadata": {},
   "outputs": [],
   "source": [
    "import pandas as pd\n",
    "import numpy as np\n",
    "import matplotlib.pyplot as plt\n",
    "from pylab import *\n",
    "from PIL import Image\n",
    "import os\n",
    "import cv2\n",
    "from keras import preprocessing\n",
    "import tensorflow as tf\n",
    "from keras.models import Sequential\n",
    "from keras.layers import Conv2D, MaxPooling2D, Flatten, Dense, Dropout\n",
    "from skimage import exposure\n",
    "from sklearn.model_selection import train_test_split\n",
    "from keras.callbacks import EarlyStopping\n",
    "from sklearn.metrics import precision_score, recall_score, f1_score, confusion_matrix\n",
    "from tensorflow.keras.models import Model\n",
    "from tensorflow.keras.metrics import AUC"
   ]
  },
  {
   "cell_type": "code",
   "execution_count": 2,
   "metadata": {},
   "outputs": [],
   "source": [
    "trainingDataHEM = 'C:/Users/v4run/OneDrive/Desktop/Datasets/C-NMC_Leukemia/trainingDataAUG_HEM'\n",
    "trainingDataHEM1 = 'C:/Users/v4run/OneDrive/Desktop/Datasets/C-NMC_Leukemia/trainingDataHEM'\n",
    "trainingDataALL = 'C:/Users/v4run/OneDrive/Desktop/Datasets/C-NMC_Leukemia/trainingDataALL'"
   ]
  },
  {
   "cell_type": "code",
   "execution_count": 3,
   "metadata": {},
   "outputs": [],
   "source": [
    "def get_imlist(path):\n",
    "    return [os.path.join(path,f) for f in os.listdir(path) if f.endswith('.bmp')]"
   ]
  },
  {
   "cell_type": "code",
   "execution_count": 4,
   "metadata": {},
   "outputs": [],
   "source": [
    "img_listHem = []\n",
    "load_path = get_imlist(trainingDataHEM)\n",
    "for i in load_path:\n",
    "    image_array = np.array(Image.open(i))\n",
    "    resized = exposure.equalize_adapthist(image_array,clip_limit=0.15,nbins=256)\n",
    "\n",
    "    img_listHem.append(resized)"
   ]
  },
  {
   "cell_type": "code",
   "execution_count": 5,
   "metadata": {},
   "outputs": [],
   "source": [
    "load_path = get_imlist(trainingDataHEM1)\n",
    "for i in load_path:\n",
    "    image_array = np.array(Image.open(i))\n",
    "    resized = exposure.equalize_adapthist(image_array,clip_limit=0.15,nbins=256)\n",
    "\n",
    "    img_listHem.append(resized)"
   ]
  },
  {
   "cell_type": "code",
   "execution_count": 6,
   "metadata": {},
   "outputs": [],
   "source": [
    "img_listAll = []\n",
    "load_path = get_imlist(trainingDataALL)\n",
    "for i in load_path:\n",
    "    image_array = np.array(Image.open(i))\n",
    "    resized = exposure.equalize_adapthist(image_array,clip_limit=0.15,nbins=256)\n",
    "\n",
    "    img_listAll.append(resized)"
   ]
  },
  {
   "cell_type": "code",
   "execution_count": 7,
   "metadata": {},
   "outputs": [],
   "source": [
    "def imageResize(img,size):\n",
    "    image_resizing = cv2.resize(np.array(img), (size, size), interpolation=cv2.INTER_LANCZOS4)\n",
    "    image_resizing = image_resizing.astype(np.float32)\n",
    "    return image_resizing"
   ]
  },
  {
   "cell_type": "code",
   "execution_count": 8,
   "metadata": {},
   "outputs": [],
   "source": [
    "resized_Hem = []\n",
    "for index, img in enumerate(img_listHem):\n",
    "    img = imageResize(img,256)\n",
    "    \n",
    "    resized_Hem.append(img)"
   ]
  },
  {
   "cell_type": "code",
   "execution_count": 9,
   "metadata": {},
   "outputs": [],
   "source": [
    "resized_ALL = []\n",
    "for index, img in enumerate(img_listAll):\n",
    "    img = imageResize(img,256)\n",
    "    resized_ALL.append(img)"
   ]
  },
  {
   "cell_type": "code",
   "execution_count": 10,
   "metadata": {},
   "outputs": [
    {
     "data": {
      "text/plain": [
       "4810"
      ]
     },
     "execution_count": 10,
     "metadata": {},
     "output_type": "execute_result"
    }
   ],
   "source": [
    "hem_label = [0 for i in range(0,4810)]\n",
    "len(hem_label)"
   ]
  },
  {
   "cell_type": "code",
   "execution_count": 11,
   "metadata": {},
   "outputs": [
    {
     "data": {
      "text/plain": [
       "4815"
      ]
     },
     "execution_count": 11,
     "metadata": {},
     "output_type": "execute_result"
    }
   ],
   "source": [
    "all_label = [1 for i in range(0,4815)]\n",
    "len(all_label)"
   ]
  },
  {
   "cell_type": "code",
   "execution_count": 12,
   "metadata": {},
   "outputs": [],
   "source": [
    "dataLabel = hem_label+all_label\n",
    "dataLabel = np.array(dataLabel)"
   ]
  },
  {
   "cell_type": "code",
   "execution_count": 13,
   "metadata": {},
   "outputs": [],
   "source": [
    "dataImage = resized_Hem + resized_ALL\n",
    "dataImage = np.array(dataImage)"
   ]
  },
  {
   "cell_type": "code",
   "execution_count": null,
   "metadata": {},
   "outputs": [],
   "source": [
    "dataImage = dataImage.astype(np.float32)"
   ]
  },
  {
   "cell_type": "code",
   "execution_count": 14,
   "metadata": {},
   "outputs": [],
   "source": [
    "trainingData, trainingLabel, validationData, validationLabel = train_test_split(dataImage, dataLabel, test_size=0.25, random_state=42, stratify=dataLabel)"
   ]
  },
  {
   "cell_type": "code",
   "execution_count": 45,
   "metadata": {},
   "outputs": [
    {
     "data": {
      "text/plain": [
       "7218"
      ]
     },
     "execution_count": 45,
     "metadata": {},
     "output_type": "execute_result"
    }
   ],
   "source": [
    "len(trainingData)"
   ]
  },
  {
   "cell_type": "code",
   "execution_count": 17,
   "metadata": {},
   "outputs": [],
   "source": [
    "trainingImage = trainingData.copy()\n",
    "trainingLabels = validationData.copy()"
   ]
  },
  {
   "cell_type": "code",
   "execution_count": 19,
   "metadata": {},
   "outputs": [],
   "source": [
    "ValidationImage = trainingLabel.copy()"
   ]
  },
  {
   "cell_type": "code",
   "execution_count": 21,
   "metadata": {},
   "outputs": [],
   "source": [
    "augmentation = preprocessing.image.ImageDataGenerator()\n",
    "augmentation.fit(trainingImage)"
   ]
  },
  {
   "cell_type": "code",
   "execution_count": 22,
   "metadata": {},
   "outputs": [],
   "source": [
    "trainImage_generator = augmentation.flow(trainingImage,trainingLabels,batch_size=32)"
   ]
  },
  {
   "cell_type": "code",
   "execution_count": 43,
   "metadata": {},
   "outputs": [],
   "source": [
    "augmentation.fit(ValidationImage)\n",
    "validImage_generator = augmentation.flow(ValidationImage,validationLabel,batch_size=32)"
   ]
  },
  {
   "cell_type": "code",
   "execution_count": 49,
   "metadata": {},
   "outputs": [
    {
     "name": "stdout",
     "output_type": "stream",
     "text": [
      "Epoch 1/100\n",
      "225/225 [==============================] - 582s 3s/step - loss: 0.5991 - auc: 0.7605 - val_loss: 0.4406 - val_auc: 0.9060\n",
      "Epoch 2/100\n",
      "225/225 [==============================] - 551s 2s/step - loss: 0.3453 - auc: 0.9207 - val_loss: 0.2958 - val_auc: 0.9455\n",
      "Epoch 3/100\n",
      "225/225 [==============================] - 548s 2s/step - loss: 0.2794 - auc: 0.9485 - val_loss: 0.2718 - val_auc: 0.9519\n",
      "Epoch 4/100\n",
      "225/225 [==============================] - 550s 2s/step - loss: 0.2370 - auc: 0.9621 - val_loss: 0.2910 - val_auc: 0.9505\n",
      "Epoch 5/100\n",
      "225/225 [==============================] - 549s 2s/step - loss: 0.2019 - auc: 0.9735 - val_loss: 0.2885 - val_auc: 0.9490\n",
      "Epoch 6/100\n",
      "225/225 [==============================] - 547s 2s/step - loss: 0.1659 - auc: 0.9828 - val_loss: 0.2726 - val_auc: 0.9571\n",
      "Epoch 7/100\n",
      "225/225 [==============================] - 544s 2s/step - loss: 0.1337 - auc: 0.9888 - val_loss: 0.3186 - val_auc: 0.9568\n",
      "Epoch 8/100\n",
      "225/225 [==============================] - 554s 2s/step - loss: 0.1081 - auc: 0.9925 - val_loss: 0.3446 - val_auc: 0.9532\n",
      "Epoch 9/100\n",
      "225/225 [==============================] - 554s 2s/step - loss: 0.0789 - auc: 0.9962 - val_loss: 0.3459 - val_auc: 0.9529\n",
      "Epoch 10/100\n",
      "225/225 [==============================] - 545s 2s/step - loss: 0.0656 - auc: 0.9971 - val_loss: 0.3662 - val_auc: 0.9543\n",
      "Epoch 11/100\n",
      "225/225 [==============================] - 547s 2s/step - loss: 0.0520 - auc: 0.9981 - val_loss: 0.4336 - val_auc: 0.9502\n",
      "Epoch 11: early stopping\n",
      "75/75 [==============================] - 36s 480ms/step - loss: 0.4336 - auc: 0.9503\n"
     ]
    }
   ],
   "source": [
    "model = Sequential()\n",
    "model.add(Conv2D(32,(3,3), activation='relu',input_shape=(256,256,3)))\n",
    "model.add(MaxPooling2D(pool_size=(2, 2)))\n",
    "\n",
    "model.add(Conv2D(64,(3,3), activation='relu'))\n",
    "model.add(MaxPooling2D(pool_size=(2, 2)))\n",
    "\n",
    "model.add(Conv2D(128,(3,3), activation='relu'))\n",
    "model.add(MaxPooling2D(pool_size=(2, 2)))\n",
    "\n",
    "model.add(Flatten())\n",
    "model.add(Dense(256, activation='relu'))\n",
    "model.add(Dropout(0.3))\n",
    "model.add(Dense(1, activation='sigmoid'))\n",
    "\n",
    "model.compile(loss='binary_crossentropy', optimizer='adam', metrics=[AUC(name='auc')])\n",
    "earlyStopping = EarlyStopping(monitor='val_auc', patience=5, verbose=1, mode='max')\n",
    "history = model.fit(\n",
    "    trainImage_generator,\n",
    "    steps_per_epoch=floor(len(trainingImage)//32),\n",
    "    epochs=100,\n",
    "    validation_data=validImage_generator,\n",
    "    validation_steps=floor(len(ValidationImage)//32),\n",
    "    callbacks=[earlyStopping]\n",
    ")\n",
    "\n",
    "loss, accuracy = model.evaluate(validImage_generator,steps=floor(len(ValidationImage)//32))"
   ]
  },
  {
   "cell_type": "code",
   "execution_count": 50,
   "metadata": {},
   "outputs": [],
   "source": [
    "model.save('C:/Users/v4run/OneDrive/Desktop/Datasets/C-NMC_Leukemia/models/balancedModelContrast.h5')"
   ]
  },
  {
   "cell_type": "code",
   "execution_count": 53,
   "metadata": {},
   "outputs": [],
   "source": [
    "acc = history.history['auc']\n",
    "val_acc = history.history['val_auc']\n",
    "val_loss = history.history['val_loss']"
   ]
  },
  {
   "cell_type": "code",
   "execution_count": 54,
   "metadata": {},
   "outputs": [],
   "source": [
    "epoch = range(1, len(acc)+1)"
   ]
  },
  {
   "cell_type": "code",
   "execution_count": 56,
   "metadata": {},
   "outputs": [
    {
     "data": {
      "image/png": "[encoded data removed]",
      "text/plain": [
       "<Figure size 432x288 with 1 Axes>"
      ]
     },
     "metadata": {
      "needs_background": "light"
     },
     "output_type": "display_data"
    }
   ],
   "source": [
    "plt.plot(epoch, acc, 'r', label = 'Training acc')\n",
    "plt.plot(epoch, val_acc, 'b', label = 'Validation acc')\n",
    "plt.title('Training and Validation accuracy')\n",
    "plt.legend()\n",
    "plt.show()"
   ]
  },
  {
   "cell_type": "code",
   "execution_count": 57,
   "metadata": {},
   "outputs": [],
   "source": [
    "#Test data"
   ]
  },
  {
   "cell_type": "code",
   "execution_count": 58,
   "metadata": {},
   "outputs": [],
   "source": [
    "testDataHEM = 'C:/Users/v4run/OneDrive/Desktop/Datasets/C-NMC_Leukemia/training_data/fold_2/hem'\n",
    "testDataALL = 'C:/Users/v4run/OneDrive/Desktop/Datasets/C-NMC_Leukemia/training_data/fold_2/all'"
   ]
  },
  {
   "cell_type": "code",
   "execution_count": null,
   "metadata": {},
   "outputs": [],
   "source": []
  }
 ],
 "metadata": {
  "kernelspec": {
   "display_name": "Python 3",
   "language": "python",
   "name": "python3"
  },
  "language_info": {
   "codemirror_mode": {
    "name": "ipython",
    "version": 3
   },
   "file_extension": ".py",
   "mimetype": "text/x-python",
   "name": "python",
   "nbconvert_exporter": "python",
   "pygments_lexer": "ipython3",
   "version": "3.9.7"
  },
  "orig_nbformat": 4
 },
 "nbformat": 4,
 "nbformat_minor": 2
}
