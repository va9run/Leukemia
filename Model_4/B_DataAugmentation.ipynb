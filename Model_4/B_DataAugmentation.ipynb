{
 "cells": [
  {
   "cell_type": "code",
   "execution_count": 1,
   "metadata": {},
   "outputs": [],
   "source": [
    "import pandas as pd\n",
    "import numpy as np\n",
    "import matplotlib.pyplot as plt\n",
    "from pylab import *\n",
    "from PIL import Image\n",
    "import os\n",
    "import cv2\n",
    "from keras import preprocessing\n",
    "import tensorflow as tf\n",
    "from keras.models import Sequential\n",
    "from keras.layers import Conv2D, MaxPooling2D, Flatten, Dense, Dropout\n",
    "from skimage import exposure"
   ]
  },
  {
   "cell_type": "code",
   "execution_count": 2,
   "metadata": {},
   "outputs": [],
   "source": [
    "trainingDataHEM = 'C:/Users/v4run/OneDrive/Desktop/Datasets/C-NMC_Leukemia/trainingDataHEM'"
   ]
  },
  {
   "cell_type": "code",
   "execution_count": 3,
   "metadata": {},
   "outputs": [],
   "source": [
    "def get_imlist(path):\n",
    "    return [os.path.join(path,f) for f in os.listdir(path) if f.endswith('.bmp')]"
   ]
  },
  {
   "cell_type": "code",
   "execution_count": 20,
   "metadata": {},
   "outputs": [],
   "source": [
    "img_list = []\n",
    "label = []\n",
    "load_path = get_imlist(trainingDataHEM)\n",
    "for i in load_path:\n",
    "    image = Image.open(i)\n",
    "    img_resized = cv2.resize(np.array(image), (256, 256), interpolation=cv2.INTER_LANCZOS4)\n",
    "\n",
    "    img_list.append(img_resized)"
   ]
  },
  {
   "cell_type": "code",
   "execution_count": 26,
   "metadata": {},
   "outputs": [],
   "source": [
    "label = np.array([1 for i in range(len(img_list))])"
   ]
  },
  {
   "cell_type": "code",
   "execution_count": 30,
   "metadata": {},
   "outputs": [
    {
     "data": {
      "text/plain": [
       "2522"
      ]
     },
     "execution_count": 30,
     "metadata": {},
     "output_type": "execute_result"
    }
   ],
   "source": [
    "# ALL = 4815\n",
    "# HEM = 2293\n",
    "4815-2293"
   ]
  },
  {
   "cell_type": "code",
   "execution_count": 38,
   "metadata": {},
   "outputs": [],
   "source": [
    "img_list = np.array(img_list)"
   ]
  },
  {
   "cell_type": "code",
   "execution_count": 39,
   "metadata": {},
   "outputs": [
    {
     "data": {
      "text/plain": [
       "(2293, 256, 256, 3)"
      ]
     },
     "execution_count": 39,
     "metadata": {},
     "output_type": "execute_result"
    }
   ],
   "source": [
    "img_list.shape"
   ]
  },
  {
   "cell_type": "code",
   "execution_count": 31,
   "metadata": {},
   "outputs": [],
   "source": [
    "os.mkdir('C:/Users/v4run/OneDrive/Desktop/Datasets/C-NMC_Leukemia/trainingDataAUG_HEM')"
   ]
  },
  {
   "cell_type": "code",
   "execution_count": 46,
   "metadata": {},
   "outputs": [],
   "source": [
    "augmentation = preprocessing.image.ImageDataGenerator(\n",
    "\n",
    "                                                            rotation_range=60, # image rotation range\n",
    "                                                            width_shift_range=0.1, # horizontal shift during augmentation\n",
    "                                                            height_shift_range=0.1, # vertical shift during augmentation\n",
    "                                                            shear_range=0, # shear angle shift during augmentation\n",
    "                                                            zoom_range=0.3, # image zoom-in or out during augmentation\n",
    "                                                            horizontal_flip=True,\n",
    "                                                            fill_mode='constant',\n",
    "                                                            cval=0,\n",
    "                                                            vertical_flip=True\n",
    "                                                    )\n",
    "        \n",
    "augmentation.fit(img_list)\n",
    "augmentedImage_generator = augmentation.flow(img_list, batch_size=32, save_to_dir='C:/Users/v4run/OneDrive/Desktop/Datasets/C-NMC_Leukemia/trainingDataAUG_HEM',save_prefix='aug_',save_format='.bmp')"
   ]
  },
  {
   "cell_type": "code",
   "execution_count": 47,
   "metadata": {},
   "outputs": [],
   "source": [
    "imgCount = 0\n",
    "while imgCount <= 2510:\n",
    "    images = next(augmentedImage_generator)\n",
    "    imgCount +=len(images)"
   ]
  },
  {
   "cell_type": "code",
   "execution_count": null,
   "metadata": {},
   "outputs": [],
   "source": []
  }
 ],
 "metadata": {
  "kernelspec": {
   "display_name": "Python 3",
   "language": "python",
   "name": "python3"
  },
  "language_info": {
   "codemirror_mode": {
    "name": "ipython",
    "version": 3
   },
   "file_extension": ".py",
   "mimetype": "text/x-python",
   "name": "python",
   "nbconvert_exporter": "python",
   "pygments_lexer": "ipython3",
   "version": "3.9.7"
  },
  "orig_nbformat": 4
 },
 "nbformat": 4,
 "nbformat_minor": 2
}
