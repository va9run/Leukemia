{
 "cells": [
  {
   "cell_type": "code",
   "execution_count": 1,
   "metadata": {},
   "outputs": [],
   "source": [
    "import pandas as pd\n",
    "import numpy as np\n",
    "import matplotlib.pyplot as plt\n",
    "from pylab import *\n",
    "from PIL import Image\n",
    "import os\n",
    "import cv2\n",
    "from keras import preprocessing\n",
    "import tensorflow as tf\n",
    "from keras.models import Sequential\n",
    "from keras.layers import Conv2D, MaxPooling2D, Flatten, Dense, Dropout\n",
    "from skimage import exposure\n",
    "import imageio"
   ]
  },
  {
   "cell_type": "code",
   "execution_count": 2,
   "metadata": {},
   "outputs": [],
   "source": [
    "trainingDataHEM = 'C:/Users/v4run/OneDrive/Desktop/Datasets/C-NMC_Leukemia/training_data/fold_1/hem'\n",
    "trainingDataALL = 'C:/Users/v4run/OneDrive/Desktop/Datasets/C-NMC_Leukemia/training_data/fold_1/all'"
   ]
  },
  {
   "cell_type": "code",
   "execution_count": 3,
   "metadata": {},
   "outputs": [],
   "source": [
    "def get_imlist(path):\n",
    "    return [os.path.join(path,f) for f in os.listdir(path) if f.endswith('.bmp')]"
   ]
  },
  {
   "cell_type": "code",
   "execution_count": 18,
   "metadata": {},
   "outputs": [],
   "source": [
    "def dataImport(path,pathType):\n",
    "    imageList = []\n",
    "    for i,j in zip(pathType,path):\n",
    "        if i not in ['ALL','HEM']:\n",
    "            raise ValueError(\"Entry must be either 'ALL' or 'HEM'\")\n",
    "        else:\n",
    "            if i == 'HEM':\n",
    "                loadPath = get_imlist(j) \n",
    "                for paths in loadPath:\n",
    "                    imageList.append(np.array(Image.open(paths)))\n",
    "            else:\n",
    "                loadPath = get_imlist(j) \n",
    "                for paths in loadPath:\n",
    "                    imageList.append(np.array(Image.open(paths)))\n",
    "    return np.array(imageList)"
   ]
  },
  {
   "cell_type": "code",
   "execution_count": 19,
   "metadata": {},
   "outputs": [],
   "source": [
    "Hem = dataImport([trainingDataHEM],['HEM'])"
   ]
  },
  {
   "cell_type": "code",
   "execution_count": 20,
   "metadata": {},
   "outputs": [],
   "source": [
    "augmentation = preprocessing.image.ImageDataGenerator(\n",
    "\n",
    "                                                            rotation_range=50, # image rotation range\n",
    "                                                            width_shift_range=0.1, # horizontal shift during augmentation\n",
    "                                                            height_shift_range=0.1, # vertical shift during augmentation\n",
    "                                                            shear_range=0, # shear angle shift during augmentation\n",
    "                                                            zoom_range=0.2, # image zoom-in or out during augmentation\n",
    "                                                            horizontal_flip=True,\n",
    "                                                            fill_mode='nearest'\n",
    "                                                    )\n",
    "        \n",
    "augmentation.fit(Hem)\n",
    "augmentedImage_generator = augmentation.flow(Hem, batch_size=32, save_to_dir='C:/Users/v4run/OneDrive/Desktop/Datasets/C-NMC_Leukemia/training_data/fold_1/aug_hem',save_prefix='aug_',save_format='.bmp')"
   ]
  },
  {
   "cell_type": "code",
   "execution_count": 21,
   "metadata": {},
   "outputs": [],
   "source": [
    "imgCount = 0\n",
    "while imgCount < 1255:\n",
    "    images = next(augmentedImage_generator)\n",
    "    imgCount +=len(images)"
   ]
  },
  {
   "cell_type": "code",
   "execution_count": null,
   "metadata": {},
   "outputs": [],
   "source": []
  }
 ],
 "metadata": {
  "kernelspec": {
   "display_name": "Python 3",
   "language": "python",
   "name": "python3"
  },
  "language_info": {
   "codemirror_mode": {
    "name": "ipython",
    "version": 3
   },
   "file_extension": ".py",
   "mimetype": "text/x-python",
   "name": "python",
   "nbconvert_exporter": "python",
   "pygments_lexer": "ipython3",
   "version": "3.9.7"
  },
  "orig_nbformat": 4
 },
 "nbformat": 4,
 "nbformat_minor": 2
}
