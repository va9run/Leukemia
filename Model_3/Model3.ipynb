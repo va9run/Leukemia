{
 "cells": [
  {
   "cell_type": "code",
   "execution_count": 1,
   "metadata": {},
   "outputs": [],
   "source": [
    "import pandas as pd\n",
    "import numpy as np\n",
    "import matplotlib.pyplot as plt\n",
    "from pylab import *\n",
    "from PIL import Image\n",
    "import os\n",
    "import cv2\n",
    "from keras import preprocessing\n",
    "import tensorflow as tf\n",
    "from keras.models import Sequential\n",
    "from keras.layers import Conv2D, MaxPooling2D, Flatten, Dense, Dropout\n",
    "from skimage import exposure\n",
    "import imageio"
   ]
  },
  {
   "cell_type": "code",
   "execution_count": 2,
   "metadata": {},
   "outputs": [],
   "source": [
    "trainingDataHEM = 'C:/Users/v4run/OneDrive/Desktop/Datasets/C-NMC_Leukemia/training_data/fold_1/cropped_hem'\n",
    "trainingDataALL = 'C:/Users/v4run/OneDrive/Desktop/Datasets/C-NMC_Leukemia/training_data/fold_1/cropped_all'\n",
    "trainingDataAugHEM = 'C:/Users/v4run/OneDrive/Desktop/Datasets/C-NMC_Leukemia/training_data/fold_1/aug_hem'\n",
    "\n",
    "validationDataHEM = 'C:/Users/v4run/OneDrive/Desktop/Datasets/C-NMC_Leukemia/training_data/fold_0/hem'\n",
    "validationDataALL = 'C:/Users/v4run/OneDrive/Desktop/Datasets/C-NMC_Leukemia/training_data/fold_0/all'"
   ]
  },
  {
   "cell_type": "code",
   "execution_count": 3,
   "metadata": {},
   "outputs": [],
   "source": [
    "def get_imlist(path):\n",
    "    return [os.path.join(path,f) for f in os.listdir(path) if f.endswith('.bmp')]"
   ]
  },
  {
   "cell_type": "code",
   "execution_count": 4,
   "metadata": {},
   "outputs": [],
   "source": [
    "def crop_img(images, display=False):\n",
    "    mask = images == 0\n",
    "\n",
    "    coords = np.array(np.nonzero(~mask))\n",
    "    top_left = np.min(coords, axis=1)\n",
    "    bottom_right = np.max(coords, axis=1)\n",
    "\n",
    "    cropped_image = images[top_left[0]:bottom_right[0],top_left[1]:bottom_right[1]]\n",
    "    return cropped_image"
   ]
  },
  {
   "cell_type": "code",
   "execution_count": 5,
   "metadata": {},
   "outputs": [],
   "source": [
    "def dataImport(path,pathType,dataType):\n",
    "    imageList = []\n",
    "    for dtype in dataType:\n",
    "        if dtype == 'Validation':\n",
    "            for i,j in zip(pathType,path):\n",
    "                if i not in ['ALL','HEM']:\n",
    "                    raise ValueError(\"Entry must be either 'ALL' or 'HEM'\")\n",
    "                else:\n",
    "                    if i == 'HEM':\n",
    "                        loadPath = get_imlist(j) \n",
    "                        for paths in loadPath:\n",
    "                            imageList.append({'Images':Image.open(paths),'Labels':0,'CroppedImages':None})\n",
    "                    else:\n",
    "                        loadPath = get_imlist(j) \n",
    "                        for paths in loadPath:\n",
    "                            imageList.append({'Images':Image.open(paths),'Labels':1,'CroppedImages':None})\n",
    "            imageData = pd.DataFrame(imageList)\n",
    "            imageData['CroppedImages'] = imageData['Images'].apply(lambda images: crop_img(np.array(images)))\n",
    "        else:\n",
    "            for i,j in zip(pathType,path):\n",
    "                if i not in ['ALL','HEM']:\n",
    "                    raise ValueError(\"Entry must be either 'ALL' or 'HEM'\")\n",
    "                else:\n",
    "                    if i == 'HEM':\n",
    "                        loadPath = get_imlist(j) \n",
    "                        for paths in loadPath:\n",
    "                            imageList.append({'Images':Image.open(paths),'Labels':0})\n",
    "                    else:\n",
    "                        loadPath = get_imlist(j) \n",
    "                        for paths in loadPath:\n",
    "                            imageList.append({'Images':Image.open(paths),'Labels':1})\n",
    "\n",
    "            imageData = pd.DataFrame(imageList)\n",
    "            print('Imdone...')\n",
    "    return imageData"
   ]
  },
  {
   "cell_type": "code",
   "execution_count": 6,
   "metadata": {},
   "outputs": [],
   "source": [
    "def load_images_labels_from_df(path, pathType, dataType, img_size):\n",
    "\n",
    "    df = dataImport(path,pathType,dataType)\n",
    "    images = []\n",
    "    labels = []\n",
    "    for dType in dataType:\n",
    "        if dType == 'Validation':\n",
    "            for _, row in df.iterrows():\n",
    "                label = row['Labels']\n",
    "                img_data = row['CroppedImages']\n",
    "                img_resized = cv2.resize(img_data, (img_size, img_size), interpolation=cv2.INTER_LANCZOS4) #resize images (128*128, 256*256 etc)\n",
    "                img_array = exposure.equalize_adapthist(img_resized,clip_limit=0.15,nbins=256)  # Normalize pixel values\n",
    "                img_array = (img_array*255).astype(np.uint8)\n",
    "                images.append(img_array)\n",
    "                labels.append(label)\n",
    "            \n",
    "        else:\n",
    "            print('Imhere...')\n",
    "            for _, row in df.iterrows():\n",
    "                label = row['Labels']\n",
    "                img_data = np.array(row['Images'])\n",
    "                images.append(img_data)\n",
    "                labels.append(label)\n",
    "\n",
    "    images = np.array(images)\n",
    "    labels = np.array(labels)\n",
    "    \n",
    "    return images, labels, len(images)"
   ]
  },
  {
   "cell_type": "code",
   "execution_count": 7,
   "metadata": {},
   "outputs": [
    {
     "name": "stdout",
     "output_type": "stream",
     "text": [
      "Imdone...\n"
     ]
    }
   ],
   "source": [
    "# Training Dataset\n",
    "imageTrainData, labelTrainData, totalTrainData = load_images_labels_from_df([trainingDataALL,trainingDataHEM,trainingDataAugHEM],\n",
    "                                                                  ['ALL','HEM','HEM'],['Train','Train','Train'],256)"
   ]
  },
  {
   "cell_type": "code",
   "execution_count": 7,
   "metadata": {},
   "outputs": [],
   "source": [
    "imageValidData, labelValidData, totalValidData = load_images_labels_from_df([validationDataALL,validationDataHEM],\n",
    "                                                                  ['ALL','HEM'],['Validation','Validation'],256)"
   ]
  },
  {
   "cell_type": "code",
   "execution_count": null,
   "metadata": {},
   "outputs": [],
   "source": []
  }
 ],
 "metadata": {
  "kernelspec": {
   "display_name": "Python 3",
   "language": "python",
   "name": "python3"
  },
  "language_info": {
   "codemirror_mode": {
    "name": "ipython",
    "version": 3
   },
   "file_extension": ".py",
   "mimetype": "text/x-python",
   "name": "python",
   "nbconvert_exporter": "python",
   "pygments_lexer": "ipython3",
   "version": "3.9.7"
  },
  "orig_nbformat": 4
 },
 "nbformat": 4,
 "nbformat_minor": 2
}
